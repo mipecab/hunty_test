{
 "cells": [
  {
   "cell_type": "code",
   "execution_count": 13,
   "id": "70021433",
   "metadata": {},
   "outputs": [],
   "source": [
    "# Importe de Librerías\n",
    "from google.cloud import storage\n",
    "import json\n",
    "import pandas as pd\n",
    "import gspread\n"
   ]
  },
  {
   "cell_type": "code",
   "execution_count": 2,
   "id": "d37528e6",
   "metadata": {},
   "outputs": [],
   "source": []
  },
  {
   "cell_type": "code",
   "execution_count": null,
   "id": "d34c176e",
   "metadata": {},
   "outputs": [],
   "source": []
  },
  {
   "cell_type": "code",
   "execution_count": 3,
   "id": "08f50292",
   "metadata": {},
   "outputs": [],
   "source": [
    "# Definición de variables\n",
    "json_key = 'top-opus-371913-3159a33cc246.json'\n",
    "bucket_name = 'pr_hunty'\n",
    "office_modality_file = 'office_modality.json'\n",
    "company_size_file = 'tamaño_empresas.json'\n",
    "email = 'micperezc@gmail.com'\n",
    "project_name = \"hunty_project\""
   ]
  },
  {
   "cell_type": "code",
   "execution_count": 4,
   "id": "c3cc170b",
   "metadata": {},
   "outputs": [],
   "source": [
    "# Conexión a google Storage\n",
    "storage_client = storage.Client.from_service_account_json(json_key)"
   ]
  },
  {
   "cell_type": "code",
   "execution_count": 5,
   "id": "726d0a92",
   "metadata": {},
   "outputs": [],
   "source": [
    "# Conexión al Bucket utilizado para cargos los arhivos office_modality.json y tamaño_empresas.json\n",
    "bucket = storage_client.get_bucket(bucket_name)"
   ]
  },
  {
   "cell_type": "code",
   "execution_count": 6,
   "id": "b45a4658",
   "metadata": {},
   "outputs": [],
   "source": [
    "# Función para obtener jsons\n",
    "def get_json(filename):\n",
    " \n",
    "    blob = bucket.get_blob(filename)\n",
    "    file_data = json.loads(blob.download_as_string())\n",
    "    return file_data"
   ]
  },
  {
   "cell_type": "code",
   "execution_count": 7,
   "id": "4dfb874f",
   "metadata": {},
   "outputs": [],
   "source": [
    "# Función que crea dataframe de acuerdo a los archivos dispuestos en el bucket: office_modality.json y tamaño_empresas.json\n",
    "def create_dataframe(file):\n",
    "     dataset = get_json(file)\n",
    "     dataset_df = pd.DataFrame.from_records(dataset)\n",
    "     if 'disponibility' in dataset_df.columns:\n",
    "        dataset_df['disponibility'] = dataset_df['disponibility'].astype('string')\n",
    "     return dataset_df"
   ]
  },
  {
   "cell_type": "code",
   "execution_count": 8,
   "id": "3bb1e8ab",
   "metadata": {},
   "outputs": [],
   "source": [
    "# Creando dataframes con la información de cada una de lis archivos jsons\n",
    "office_modality_df = create_dataframe(office_modality_file)\n",
    "company_size_df = create_dataframe(company_size_file)"
   ]
  },
  {
   "cell_type": "code",
   "execution_count": 9,
   "id": "4640cb5e",
   "metadata": {},
   "outputs": [
    {
     "data": {
      "text/plain": [
       "<Response [200]>"
      ]
     },
     "execution_count": 9,
     "metadata": {},
     "output_type": "execute_result"
    }
   ],
   "source": [
    "# Creando el google sheet para alojar la información de los archivos json\n",
    "service = gspread.service_account(filename=json_key)\n",
    "hunty_sheet = service.create(project_name)\n",
    "hunty_sheet.share(email, perm_type='user', role='writer')\n"
   ]
  },
  {
   "cell_type": "code",
   "execution_count": 11,
   "id": "e9c03f16",
   "metadata": {},
   "outputs": [
    {
     "data": {
      "text/plain": [
       "{'spreadsheetId': '1pNi-kflWPmtQXIiIOWTfETsG9yyAnrFCxSCEWaTC9yw',\n",
       " 'replies': [{}]}"
      ]
     },
     "execution_count": 11,
     "metadata": {},
     "output_type": "execute_result"
    }
   ],
   "source": [
    "# Cargando la información de los datos de office modality\n",
    "hunty_sheet = service.open(\"hunty_project\")\n",
    "hunty_office_sheet = hunty_sheet.worksheet(\"Sheet1\")\n",
    "hunty_office_sheet.update([office_modality_df.columns.values.tolist()] + office_modality_df.values.tolist())\n",
    "hunty_office_sheet.format('A1:E1', {'textFormat': {'bold': True}})"
   ]
  },
  {
   "cell_type": "code",
   "execution_count": null,
   "id": "6931fced",
   "metadata": {},
   "outputs": [],
   "source": []
  },
  {
   "cell_type": "code",
   "execution_count": 12,
   "id": "e925da75",
   "metadata": {},
   "outputs": [
    {
     "data": {
      "text/plain": [
       "{'spreadsheetId': '1pNi-kflWPmtQXIiIOWTfETsG9yyAnrFCxSCEWaTC9yw',\n",
       " 'replies': [{}]}"
      ]
     },
     "execution_count": 12,
     "metadata": {},
     "output_type": "execute_result"
    }
   ],
   "source": [
    "# Cargando la información de los datos de la compañía\n",
    "hunty_company_sheet = hunty_sheet.add_worksheet(title=\"Company size\", rows=\"100\", cols=\"20\" )\n",
    "hunty_company_sheet.update([company_size_df.columns.values.tolist()] + company_size_df.values.tolist())\n",
    "hunty_company_sheet.format('A1:C1', {'textFormat': {'bold': True}})"
   ]
  },
  {
   "cell_type": "code",
   "execution_count": null,
   "id": "c3b3d3da",
   "metadata": {},
   "outputs": [],
   "source": []
  },
  {
   "cell_type": "code",
   "execution_count": null,
   "id": "dd4445e8",
   "metadata": {},
   "outputs": [],
   "source": []
  }
 ],
 "metadata": {
  "kernelspec": {
   "display_name": "Python 3 (ipykernel)",
   "language": "python",
   "name": "python3"
  },
  "language_info": {
   "codemirror_mode": {
    "name": "ipython",
    "version": 3
   },
   "file_extension": ".py",
   "mimetype": "text/x-python",
   "name": "python",
   "nbconvert_exporter": "python",
   "pygments_lexer": "ipython3",
   "version": "3.9.13"
  }
 },
 "nbformat": 4,
 "nbformat_minor": 5
}
